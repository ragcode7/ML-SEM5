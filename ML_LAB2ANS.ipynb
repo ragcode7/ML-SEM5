{
  "nbformat": 4,
  "nbformat_minor": 0,
  "metadata": {
    "colab": {
      "name": "ML_LAB2ANS.ipynb",
      "provenance": [],
      "collapsed_sections": [],
      "include_colab_link": true
    },
    "kernelspec": {
      "name": "python3",
      "display_name": "Python 3"
    },
    "language_info": {
      "name": "python"
    }
  },
  "cells": [
    {
      "cell_type": "markdown",
      "metadata": {
        "id": "view-in-github",
        "colab_type": "text"
      },
      "source": [
        "<a href=\"https://colab.research.google.com/github/ragcode7/ML-SEM5/blob/main/ML_LAB2ANS.ipynb\" target=\"_parent\"><img src=\"https://colab.research.google.com/assets/colab-badge.svg\" alt=\"Open In Colab\"/></a>"
      ]
    },
    {
      "cell_type": "markdown",
      "metadata": {
        "id": "vg3ioKqvpQ3O"
      },
      "source": [
        "# **19CSE305: MACHINE LEARNING LAB 2**\n",
        "\n",
        "PYTHON BASICS : EXERCISES"
      ]
    },
    {
      "cell_type": "markdown",
      "metadata": {
        "id": "burmJnBypUxF"
      },
      "source": [
        "ROLL NUMBER: CB.EN.U4CSE19046"
      ]
    },
    {
      "cell_type": "code",
      "metadata": {
        "id": "hrgW4a0CJs34"
      },
      "source": [
        "QUESTIONS\n",
        "PYTHON BASIC EXCERSISE\n",
        "\n",
        "1)Get two positive integers start and end from the user and write a Python program to print all Prime numbers in that Interval.\n",
        "2) Given a list of strings( Entered by the user), write program to get a percentage share of each word in the strings list.\n",
        "percentage := (Occurrence of a word / Total words) * 100\n",
        "3)Check if  given number is Fibonacci number or not. Given an integer ‘n’( Entered by the user), write a Python function that returns true if n  is Fibonacci number else return false.\n",
        "4)Write a program to check if all digits of a number divide it. Given a number n( Entered by the user), find whether all digits of n divide it or not.\n",
        "5)Get a given array as input from the user and split it from a specified position, and move the first part of array add to the end.\n",
        "example:\n",
        "Input : {1, 2, 3, 4, 5}, k = 3\n",
        "Output :{4,5,1,2,3}\n",
        "\n",
        "\n",
        "NUMPY BASIC EXCERSISE\n",
        "\n",
        "1) Create a 2D array of shape 4x5 that contains random decimal numbers between 3 and 10.\n",
        "2) Create a randomly created 1D array and Convert it to a 2D array with 2 rows.\n",
        "3) Given a NumPy array of temperature values, convert the values of Fahrenheit degrees into Centigrade degrees. \n",
        "4) Write a NumPy program to count the number of dimensions, number of elements and number of bytes for each element in a given array.\n",
        "5) Write a NumPy program to extract third and fourth elements of the second and third rows from a given (3x4) array.\n",
        "\n"
      ],
      "execution_count": null,
      "outputs": []
    },
    {
      "cell_type": "markdown",
      "metadata": {
        "id": "Gw8SpnMY4CbB"
      },
      "source": [
        "SOLUTIONS"
      ]
    },
    {
      "cell_type": "markdown",
      "metadata": {
        "id": "C2fVDn444Pui"
      },
      "source": [
        "PYTHON BASICS "
      ]
    },
    {
      "cell_type": "code",
      "metadata": {
        "colab": {
          "base_uri": "https://localhost:8080/"
        },
        "id": "2x5L8HFU4BOh",
        "outputId": "6c542848-682a-4f3e-dda8-86941f648d54"
      },
      "source": [
        "#1. Get two positive integers start and end from the user and write a Python program to print all Prime numbers in that Interval.\n",
        "\n",
        "#input of the lower and upper bound\n",
        "lower= int(input(\"Enter the starting number : \"))\n",
        "upper =int(input(\"Enter the ending number : \"))\n",
        "\n",
        "print(\"Prime numbers between\", lower, \"and\", upper, \"are:\")\n",
        "\n",
        "for num in range(lower, upper + 1):\n",
        "   # all prime numbers are greater than 1\n",
        "   if num > 1:\n",
        "       for i in range(2, num):\n",
        "           if (num % i) == 0:\n",
        "               break\n",
        "       else:\n",
        "           print(num)"
      ],
      "execution_count": 6,
      "outputs": [
        {
          "output_type": "stream",
          "text": [
            "Enter the starting number : 2\n",
            "Enter the ending number : 10\n",
            "Prime numbers between 2 and 10 are:\n",
            "2\n",
            "3\n",
            "5\n",
            "7\n"
          ],
          "name": "stdout"
        }
      ]
    },
    {
      "cell_type": "code",
      "metadata": {
        "colab": {
          "base_uri": "https://localhost:8080/"
        },
        "id": "JpNbMFiv7Bf0",
        "outputId": "eb96dfc3-85c9-42fa-b785-8be84f869366"
      },
      "source": [
        "#2. Given a list of strings( Entered by the user), write program to get a percentage share of each word in the strings list.\n",
        "#percentage := (Occurrence of a word / Total words) * 100\n",
        "from collections import Counter\n",
        "  \n",
        "\n",
        "               \n",
        "test_list= [\"hello this is the first line\",\n",
        "            \"hello this is the seconnf line\"]\n",
        "joined = \" \".join(ele for ele in test_list)\n",
        "  \n",
        "\n",
        "mappd = Counter(joined.split())\n",
        "  \n",
        "total_val = sum(mappd.values())\n",
        "  \n",
        "\n",
        "res = {key: val / total_val for key,\n",
        "       val in mappd.items()}\n",
        "\n",
        "print(\"Percentage share of each word : \" + str(res))\n"
      ],
      "execution_count": 27,
      "outputs": [
        {
          "output_type": "stream",
          "text": [
            "Percentage share of each word : {'hello': 0.16666666666666666, 'this': 0.16666666666666666, 'is': 0.16666666666666666, 'the': 0.16666666666666666, 'first': 0.08333333333333333, 'line': 0.16666666666666666, 'seconnf': 0.08333333333333333}\n"
          ],
          "name": "stdout"
        }
      ]
    },
    {
      "cell_type": "code",
      "metadata": {
        "colab": {
          "base_uri": "https://localhost:8080/"
        },
        "id": "9-r-bbQq7E_k",
        "outputId": "efc13312-1218-4007-a0db-1b304a9a230d"
      },
      "source": [
        "#3. Check if  given number is Fibonacci number or not. Given an integer ‘n’( Entered by the user), write a Python function that returns true if n  is Fibonacci number else return false.\n",
        "\n",
        "import math\n",
        "num = int(input(\"Enter an integer number: \"))\n",
        "\n",
        "def checkPerfectSquare(n):\n",
        "    sqrt = int(math.sqrt(n))\n",
        "    if pow(sqrt, 2) == n:\n",
        "        return True\n",
        "    else:\n",
        "        return False\n",
        "def isFibonacciNumber(n):\n",
        "    res1 = 5 * n * n + 4\n",
        "    res2 = 5 * n * n - 4\n",
        "    if checkPerfectSquare(res1) or checkPerfectSquare(res2):\n",
        "        return True\n",
        "    return False\n",
        "if isFibonacciNumber(num):\n",
        "    print (\"True\")\n",
        "else:\n",
        "    print (\"False\")\n"
      ],
      "execution_count": 10,
      "outputs": [
        {
          "output_type": "stream",
          "text": [
            "Enter an integer number: 13\n",
            "True\n"
          ],
          "name": "stdout"
        }
      ]
    },
    {
      "cell_type": "code",
      "metadata": {
        "colab": {
          "base_uri": "https://localhost:8080/"
        },
        "id": "TgKP2Tdf7K89",
        "outputId": "ef5a4bcb-6c87-4ef7-dbc2-398eab4f4e03"
      },
      "source": [
        "#4. Write a program to check if all digits of a number divide it. Given a number n( Entered by the user), find whether all digits of n divide it or not.\n",
        "n = int(input(\"Enter an integer number: \"))\n",
        "def divisibilityCheck(n,dig):\n",
        "  return(dig!=0 and n%dig==0)\n",
        "def digDivideAll(n):\n",
        "  tempo=n\n",
        "  while(tempo>0):\n",
        "    dig=tempo%10\n",
        "    if((divisibilityCheck(n,dig))==False):\n",
        "      return False\n",
        "    tempo=tempo//10\n",
        "  return True\n",
        "\n",
        "if(digDivideAll(n)):\n",
        "  print(\"Yes,all digits of the number will divide it \")\n",
        "else:\n",
        "  print(\"No,all digits of the number will not divide it\")"
      ],
      "execution_count": 11,
      "outputs": [
        {
          "output_type": "stream",
          "text": [
            "Enter an integer number: 128\n",
            "Yes,all digits of the number will divide it \n"
          ],
          "name": "stdout"
        }
      ]
    },
    {
      "cell_type": "code",
      "metadata": {
        "colab": {
          "base_uri": "https://localhost:8080/"
        },
        "id": "Mfiy8BYq7L_C",
        "outputId": "9760272f-8090-4948-aa99-9e5dfc66c772"
      },
      "source": [
        "#5. Get a given array as input from the user and split it from a specified position, and move the first part of array add to the end.\n",
        "#example:\n",
        "#Input : {1, 2, 3, 4, 5}, k = 3\n",
        "#Output :{4,5,1,2,3}\n",
        "\n",
        "def arraySplit(arr, n, k):\n",
        "    for i in range(0, k):\n",
        "        x = arr[0]\n",
        "        for j in range(0, n-1):\n",
        "            arr[j] = arr[j + 1]\n",
        "         \n",
        "        arr[n-1] = x\n",
        "         \n",
        " \n",
        "arr = [1, 2, 3, 4, 5]\n",
        "n = len(arr)\n",
        "position = 3\n",
        " \n",
        "arraySplit(arr, n, position)\n",
        " \n",
        "for i in range(0, n):\n",
        "    print(arr[i], end = ' ')\n"
      ],
      "execution_count": 18,
      "outputs": [
        {
          "output_type": "stream",
          "text": [
            "4 5 1 2 3 "
          ],
          "name": "stdout"
        }
      ]
    },
    {
      "cell_type": "markdown",
      "metadata": {
        "id": "uTvNcZSa7Nad"
      },
      "source": [
        "NUMPY BASICS"
      ]
    },
    {
      "cell_type": "code",
      "metadata": {
        "colab": {
          "base_uri": "https://localhost:8080/"
        },
        "id": "1f21qJg-7PYP",
        "outputId": "62557230-09f8-4bc2-c4bc-c1a870249d0d"
      },
      "source": [
        "#1. Create a 2D array of shape 4x5 that contains random decimal numbers between 3 and 10.\n",
        "import numpy as np\n",
        "random_matrix_array = np.random.randint(3,11,size=(4,5))\n",
        "print(random_matrix_array)"
      ],
      "execution_count": 29,
      "outputs": [
        {
          "output_type": "stream",
          "text": [
            "[[ 6  7  4  3  3]\n",
            " [ 9  4  4  6 10]\n",
            " [ 5  4  8  9  7]\n",
            " [ 5  9  9  5  9]]\n"
          ],
          "name": "stdout"
        }
      ]
    },
    {
      "cell_type": "code",
      "metadata": {
        "colab": {
          "base_uri": "https://localhost:8080/"
        },
        "id": "vWWOsIpR7Qxo",
        "outputId": "b5b52f94-e7f3-4f5a-e95e-2736a6d04271"
      },
      "source": [
        "#2. Create a randomly created 1D array and Convert it to a 2D array with 2 rows.\n",
        "import numpy as np\n",
        "arr = np.array([0, 1, 2, 3, 4, 5, 6, 7, 8, 9])\n",
        "arr_2d = np.reshape(arr, (2, 5))\n",
        "print(arr_2d)"
      ],
      "execution_count": 15,
      "outputs": [
        {
          "output_type": "stream",
          "text": [
            "[[0 1 2 3 4]\n",
            " [5 6 7 8 9]]\n"
          ],
          "name": "stdout"
        }
      ]
    },
    {
      "cell_type": "code",
      "metadata": {
        "colab": {
          "base_uri": "https://localhost:8080/"
        },
        "id": "bTFQL8L57Rue",
        "outputId": "62577021-bf2f-488a-aac6-eaf15b146edc"
      },
      "source": [
        "#3.Given a NumPy array of temperature values, convert the values of Fahrenheit degrees into Centigrade degrees. \n",
        "import numpy as np\n",
        "fahrenheitvalues = [0, 12, 45.21, 34, 99.91]\n",
        "Fa = np.array(fahrenheitvalues)\n",
        "print(\"Values in Centigrade degrees:\") \n",
        "print(5*Fa/9 - 5*32/9)"
      ],
      "execution_count": 16,
      "outputs": [
        {
          "output_type": "stream",
          "text": [
            "Values in  Centigrade degrees:\n",
            "[-17.77777778 -11.11111111   7.33888889   1.11111111  37.72777778]\n"
          ],
          "name": "stdout"
        }
      ]
    },
    {
      "cell_type": "code",
      "metadata": {
        "colab": {
          "base_uri": "https://localhost:8080/"
        },
        "id": "9cFbDNtg7SzO",
        "outputId": "83687bb8-bc6b-4e29-eea0-ef2bbb1b445f"
      },
      "source": [
        "#4. Write a NumPy program to count the number of dimensions, number of elements and number of bytes for each element in a given array.\n",
        "import numpy as np    \n",
        "print(\"\\nOriginal array:\")\n",
        "x = np.array([[ 0,  1,  2,  3,  4,  5,  6,  7,  8,  9, 10, 11],\n",
        "       [12, 13, 14, 15, 16, 17, 18, 19, 20, 21, 22, 23]])\n",
        "print(x)\n",
        "print(\"\\nNumber of dimensions:\")\n",
        "print(x.ndim)\n",
        "print(\"Number of elements:\")\n",
        "print(x.size)\n",
        "print(\"Number of bytes for each element in the said array:\")\n",
        "print(x.itemsize) \n"
      ],
      "execution_count": 17,
      "outputs": [
        {
          "output_type": "stream",
          "text": [
            "\n",
            "Original array:\n",
            "[[ 0  1  2  3  4  5  6  7  8  9 10 11]\n",
            " [12 13 14 15 16 17 18 19 20 21 22 23]]\n",
            "\n",
            "Number of dimensions:\n",
            "2\n",
            "Number of elements:\n",
            "24\n",
            "Number of bytes for each element in the said array:\n",
            "8\n"
          ],
          "name": "stdout"
        }
      ]
    },
    {
      "cell_type": "code",
      "metadata": {
        "colab": {
          "base_uri": "https://localhost:8080/"
        },
        "id": "Up6TIPrr7TvL",
        "outputId": "d4ccc090-5c81-4c8c-cfe0-cd65e46d1815"
      },
      "source": [
        "#5. Write a NumPy program to extract third and fourth elements of the second and third rows from a given (3x4) array.\n",
        "import numpy as np\n",
        "arra_data = np.arange(0,16).reshape((4, 4))\n",
        "print(\"Original array:\")\n",
        "print(arra_data)\n",
        "print(\"\\nExtracted data: Third and Fourth elements of the second and third rows\")\n",
        "print(arra_data[0:2, 2:4])"
      ],
      "execution_count": 20,
      "outputs": [
        {
          "output_type": "stream",
          "text": [
            "Original array:\n",
            "[[ 0  1  2  3]\n",
            " [ 4  5  6  7]\n",
            " [ 8  9 10 11]\n",
            " [12 13 14 15]]\n",
            "\n",
            "Extracted data: Third and Fourth elements of the second and third rows\n",
            "[[2 3]\n",
            " [6 7]]\n"
          ],
          "name": "stdout"
        }
      ]
    }
  ]
}